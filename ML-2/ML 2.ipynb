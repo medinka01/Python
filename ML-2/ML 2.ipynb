{
 "cells": [
  {
   "cell_type": "markdown",
   "id": "19191c40",
   "metadata": {},
   "source": [
    "# 2.1. О чём этот модуль"
   ]
  },
  {
   "cell_type": "markdown",
   "id": "4038c2f9",
   "metadata": {},
   "source": [
    "### Задание 2.1.1\n",
    "\n",
    "#Что может включать в себя предобработка данных?\n",
    "ans = \"\"\"\n",
    " Центрирование\n",
    " Обрезку\n",
    " Нормализацию\n",
    " Сдвиг\n",
    " Вращение\n",
    " \"\"\"\n",
    "\n",
    "### Задание 2.1.2\n",
    "\n",
    "#Распределите этапы решения задач машинного обучения в правильном порядке:\n",
    "ans = \"Определение требований;предобраобтка;моделирование;тестирование;внедрение\"\n"
   ]
  },
  {
   "cell_type": "markdown",
   "id": "b16fd9bc",
   "metadata": {},
   "source": [
    "# 2.2. Типы данных"
   ]
  },
  {
   "cell_type": "markdown",
   "id": "3b3a898f",
   "metadata": {},
   "source": [
    "**Задание 2.2.1**\n",
    "\n",
    "Какого типа признак «вес планшета»?\n",
    "\n",
    "\n",
    "ans = Числовой верно\n",
    "\n",
    "\n",
    "### Задание 2.2.2\n",
    "\n",
    "Выберите все категориальные признаки:\n",
    "\n",
    "\n",
    "\n",
    "ans = Тип бетона; Наличие тачпада у ноутбука\n",
    "\n",
    "\n",
    "\n",
    "### Задание 2.2.3\n",
    "\n",
    "К какому типу данных относится оцифрованный снимок с пленочной камеры?\n",
    "\n",
    "\n",
    "\n",
    "ans = Графический (изображение)\n",
    " \n",
    "\n",
    "### Задание 2.2.4\n",
    "\n",
    "Выберите, какие задачи можно решать с типом алгоритмов «Тексты»:\n",
    "\n",
    "ans = Определять позитивный или негативный тон; Искать ключевые слова; Переводить на другой язык\n",
    "\n",
    "\n",
    "\n",
    "### Задание 2.2.5\n",
    "\n",
    "В неком чате Telegram есть масса сообщений. В результате задачи Х мы получили список наиболее интересных и важных тем из этих сообщений. Определите тип задачи Х, который применяется к тексту:\n",
    "\n",
    "\n",
    "\n",
    "\n",
    "ans = Суммаризация верно\n",
    "\n",
    "\n",
    "### Задание 2.2.6\n",
    "\n",
    "К какому типу данных относится граф пользователей сети Facebook:\n",
    "\n",
    "\n",
    "ans = Смешанный тип верно\n",
    "\n",
    "\n",
    "### Задание 2.2.7\n",
    "\n",
    "Выберите примеры графического типа данных (изображений):\n",
    "\n",
    "\n",
    "ans = Скан мозга, сделанный с помощью МРТ; Запись матча по футболу (без звука)\n",
    "\n",
    "### Задание 2.2.8\n",
    "\n",
    "Выберите примеры текстовых данных:\n",
    "\n",
    "ans = Пост в Facebook (без вложений); Письмо в почте\n",
    "\n",
    "\n"
   ]
  },
  {
   "cell_type": "markdown",
   "id": "c343fb60",
   "metadata": {},
   "source": [
    "# 2.3. Практика"
   ]
  },
  {
   "cell_type": "code",
   "execution_count": 98,
   "id": "1cdb1267",
   "metadata": {},
   "outputs": [
    {
     "data": {
      "text/html": [
       "<div>\n",
       "<style scoped>\n",
       "    .dataframe tbody tr th:only-of-type {\n",
       "        vertical-align: middle;\n",
       "    }\n",
       "\n",
       "    .dataframe tbody tr th {\n",
       "        vertical-align: top;\n",
       "    }\n",
       "\n",
       "    .dataframe thead th {\n",
       "        text-align: right;\n",
       "    }\n",
       "</style>\n",
       "<table border=\"1\" class=\"dataframe\">\n",
       "  <thead>\n",
       "    <tr style=\"text-align: right;\">\n",
       "      <th></th>\n",
       "      <th>id</th>\n",
       "      <th>full_sq</th>\n",
       "      <th>life_sq</th>\n",
       "      <th>floor</th>\n",
       "      <th>sub_area</th>\n",
       "      <th>preschool_quota</th>\n",
       "      <th>preschool_education_centers_raion</th>\n",
       "      <th>school_quota</th>\n",
       "      <th>school_education_centers_raion</th>\n",
       "      <th>school_education_centers_top_20_raion</th>\n",
       "      <th>...</th>\n",
       "      <th>shopping_centers_km</th>\n",
       "      <th>office_km</th>\n",
       "      <th>additional_education_km</th>\n",
       "      <th>preschool_km</th>\n",
       "      <th>big_church_km</th>\n",
       "      <th>church_synagogue_km</th>\n",
       "      <th>theater_km</th>\n",
       "      <th>museum_km</th>\n",
       "      <th>ecology</th>\n",
       "      <th>price_doc</th>\n",
       "    </tr>\n",
       "  </thead>\n",
       "  <tbody>\n",
       "    <tr>\n",
       "      <th>0</th>\n",
       "      <td>1</td>\n",
       "      <td>43</td>\n",
       "      <td>27.0</td>\n",
       "      <td>4.0</td>\n",
       "      <td>Bibirevo</td>\n",
       "      <td>5001.0</td>\n",
       "      <td>5</td>\n",
       "      <td>11065.0</td>\n",
       "      <td>5</td>\n",
       "      <td>0</td>\n",
       "      <td>...</td>\n",
       "      <td>0.648488</td>\n",
       "      <td>0.637189</td>\n",
       "      <td>0.947962</td>\n",
       "      <td>0.177975</td>\n",
       "      <td>0.625783</td>\n",
       "      <td>0.628187</td>\n",
       "      <td>14.053047</td>\n",
       "      <td>7.389498</td>\n",
       "      <td>good</td>\n",
       "      <td>5850000</td>\n",
       "    </tr>\n",
       "    <tr>\n",
       "      <th>1</th>\n",
       "      <td>2</td>\n",
       "      <td>34</td>\n",
       "      <td>19.0</td>\n",
       "      <td>3.0</td>\n",
       "      <td>Nagatinskij Zaton</td>\n",
       "      <td>3119.0</td>\n",
       "      <td>5</td>\n",
       "      <td>6237.0</td>\n",
       "      <td>8</td>\n",
       "      <td>0</td>\n",
       "      <td>...</td>\n",
       "      <td>0.519311</td>\n",
       "      <td>0.688796</td>\n",
       "      <td>1.072315</td>\n",
       "      <td>0.273345</td>\n",
       "      <td>0.967821</td>\n",
       "      <td>0.471447</td>\n",
       "      <td>6.829889</td>\n",
       "      <td>0.709260</td>\n",
       "      <td>excellent</td>\n",
       "      <td>6000000</td>\n",
       "    </tr>\n",
       "    <tr>\n",
       "      <th>2</th>\n",
       "      <td>3</td>\n",
       "      <td>43</td>\n",
       "      <td>29.0</td>\n",
       "      <td>2.0</td>\n",
       "      <td>Tekstil'shhiki</td>\n",
       "      <td>1463.0</td>\n",
       "      <td>4</td>\n",
       "      <td>5580.0</td>\n",
       "      <td>7</td>\n",
       "      <td>0</td>\n",
       "      <td>...</td>\n",
       "      <td>1.486533</td>\n",
       "      <td>1.543049</td>\n",
       "      <td>0.391957</td>\n",
       "      <td>0.158072</td>\n",
       "      <td>3.178751</td>\n",
       "      <td>0.755946</td>\n",
       "      <td>4.273200</td>\n",
       "      <td>3.156423</td>\n",
       "      <td>poor</td>\n",
       "      <td>5700000</td>\n",
       "    </tr>\n",
       "    <tr>\n",
       "      <th>3</th>\n",
       "      <td>4</td>\n",
       "      <td>89</td>\n",
       "      <td>50.0</td>\n",
       "      <td>9.0</td>\n",
       "      <td>Mitino</td>\n",
       "      <td>6839.0</td>\n",
       "      <td>9</td>\n",
       "      <td>17063.0</td>\n",
       "      <td>10</td>\n",
       "      <td>0</td>\n",
       "      <td>...</td>\n",
       "      <td>0.599914</td>\n",
       "      <td>0.934273</td>\n",
       "      <td>0.892674</td>\n",
       "      <td>0.236455</td>\n",
       "      <td>1.031777</td>\n",
       "      <td>1.561505</td>\n",
       "      <td>16.990677</td>\n",
       "      <td>16.041521</td>\n",
       "      <td>good</td>\n",
       "      <td>13100000</td>\n",
       "    </tr>\n",
       "    <tr>\n",
       "      <th>4</th>\n",
       "      <td>5</td>\n",
       "      <td>77</td>\n",
       "      <td>77.0</td>\n",
       "      <td>4.0</td>\n",
       "      <td>Basmannoe</td>\n",
       "      <td>3240.0</td>\n",
       "      <td>7</td>\n",
       "      <td>7770.0</td>\n",
       "      <td>9</td>\n",
       "      <td>0</td>\n",
       "      <td>...</td>\n",
       "      <td>0.429052</td>\n",
       "      <td>0.077901</td>\n",
       "      <td>0.810801</td>\n",
       "      <td>0.376838</td>\n",
       "      <td>0.378756</td>\n",
       "      <td>0.121681</td>\n",
       "      <td>1.112486</td>\n",
       "      <td>1.800125</td>\n",
       "      <td>excellent</td>\n",
       "      <td>16331452</td>\n",
       "    </tr>\n",
       "  </tbody>\n",
       "</table>\n",
       "<p>5 rows × 56 columns</p>\n",
       "</div>"
      ],
      "text/plain": [
       "   id  full_sq  life_sq  floor           sub_area  preschool_quota  \\\n",
       "0   1       43     27.0    4.0           Bibirevo           5001.0   \n",
       "1   2       34     19.0    3.0  Nagatinskij Zaton           3119.0   \n",
       "2   3       43     29.0    2.0     Tekstil'shhiki           1463.0   \n",
       "3   4       89     50.0    9.0             Mitino           6839.0   \n",
       "4   5       77     77.0    4.0          Basmannoe           3240.0   \n",
       "\n",
       "   preschool_education_centers_raion  school_quota  \\\n",
       "0                                  5       11065.0   \n",
       "1                                  5        6237.0   \n",
       "2                                  4        5580.0   \n",
       "3                                  9       17063.0   \n",
       "4                                  7        7770.0   \n",
       "\n",
       "   school_education_centers_raion  school_education_centers_top_20_raion  ...  \\\n",
       "0                               5                                      0  ...   \n",
       "1                               8                                      0  ...   \n",
       "2                               7                                      0  ...   \n",
       "3                              10                                      0  ...   \n",
       "4                               9                                      0  ...   \n",
       "\n",
       "   shopping_centers_km  office_km  additional_education_km  preschool_km  \\\n",
       "0             0.648488   0.637189                 0.947962      0.177975   \n",
       "1             0.519311   0.688796                 1.072315      0.273345   \n",
       "2             1.486533   1.543049                 0.391957      0.158072   \n",
       "3             0.599914   0.934273                 0.892674      0.236455   \n",
       "4             0.429052   0.077901                 0.810801      0.376838   \n",
       "\n",
       "   big_church_km  church_synagogue_km  theater_km  museum_km    ecology  \\\n",
       "0       0.625783             0.628187   14.053047   7.389498       good   \n",
       "1       0.967821             0.471447    6.829889   0.709260  excellent   \n",
       "2       3.178751             0.755946    4.273200   3.156423       poor   \n",
       "3       1.031777             1.561505   16.990677  16.041521       good   \n",
       "4       0.378756             0.121681    1.112486   1.800125  excellent   \n",
       "\n",
       "   price_doc  \n",
       "0    5850000  \n",
       "1    6000000  \n",
       "2    5700000  \n",
       "3   13100000  \n",
       "4   16331452  \n",
       "\n",
       "[5 rows x 56 columns]"
      ]
     },
     "execution_count": 98,
     "metadata": {},
     "output_type": "execute_result"
    }
   ],
   "source": [
    "import pandas as pd\n",
    "import numpy as np\n",
    "data = pd.read_csv('data_flats.csv',sep=\";\")\n",
    "data.head()"
   ]
  },
  {
   "cell_type": "code",
   "execution_count": 99,
   "id": "825f20fa",
   "metadata": {},
   "outputs": [
    {
     "name": "stdout",
     "output_type": "stream",
     "text": [
      "<class 'pandas.core.frame.DataFrame'>\n",
      "RangeIndex: 30469 entries, 0 to 30468\n",
      "Data columns (total 56 columns):\n",
      " #   Column                                 Non-Null Count  Dtype  \n",
      "---  ------                                 --------------  -----  \n",
      " 0   id                                     30469 non-null  int64  \n",
      " 1   full_sq                                30469 non-null  int64  \n",
      " 2   life_sq                                24086 non-null  float64\n",
      " 3   floor                                  30302 non-null  float64\n",
      " 4   sub_area                               30469 non-null  object \n",
      " 5   preschool_quota                        23781 non-null  float64\n",
      " 6   preschool_education_centers_raion      30469 non-null  int64  \n",
      " 7   school_quota                           23784 non-null  float64\n",
      " 8   school_education_centers_raion         30469 non-null  int64  \n",
      " 9   school_education_centers_top_20_raion  30469 non-null  int64  \n",
      " 10  hospital_beds_raion                    16029 non-null  float64\n",
      " 11  healthcare_centers_raion               30469 non-null  int64  \n",
      " 12  university_top_20_raion                30469 non-null  int64  \n",
      " 13  sport_objects_raion                    30469 non-null  int64  \n",
      " 14  additional_education_raion             30469 non-null  int64  \n",
      " 15  culture_objects_top_25_raion           30469 non-null  int64  \n",
      " 16  shopping_centers_raion                 30469 non-null  int64  \n",
      " 17  office_raion                           30469 non-null  int64  \n",
      " 18  metro_min_avto                         30469 non-null  float64\n",
      " 19  metro_km_avto                          30469 non-null  float64\n",
      " 20  metro_min_walk                         30444 non-null  float64\n",
      " 21  metro_km_walk                          30444 non-null  float64\n",
      " 22  kindergarten_km                        30469 non-null  float64\n",
      " 23  school_km                              30469 non-null  float64\n",
      " 24  park_km                                30469 non-null  float64\n",
      " 25  green_zone_km                          30469 non-null  float64\n",
      " 26  industrial_km                          30469 non-null  float64\n",
      " 27  railroad_station_walk_km               30444 non-null  float64\n",
      " 28  railroad_station_walk_min              30444 non-null  float64\n",
      " 29  public_transport_station_km            30469 non-null  float64\n",
      " 30  public_transport_station_min_walk      30469 non-null  float64\n",
      " 31  mkad_km                                30469 non-null  float64\n",
      " 32  ttk_km                                 30469 non-null  float64\n",
      " 33  sadovoe_km                             30469 non-null  float64\n",
      " 34  bulvar_ring_km                         30469 non-null  float64\n",
      " 35  kremlin_km                             30469 non-null  float64\n",
      " 36  big_market_km                          30469 non-null  float64\n",
      " 37  market_shop_km                         30469 non-null  float64\n",
      " 38  fitness_km                             30469 non-null  float64\n",
      " 39  swim_pool_km                           30469 non-null  float64\n",
      " 40  ice_rink_km                            30469 non-null  float64\n",
      " 41  stadium_km                             30469 non-null  float64\n",
      " 42  basketball_km                          30469 non-null  float64\n",
      " 43  hospice_morgue_km                      30469 non-null  float64\n",
      " 44  university_km                          30469 non-null  float64\n",
      " 45  workplaces_km                          30469 non-null  float64\n",
      " 46  shopping_centers_km                    30469 non-null  float64\n",
      " 47  office_km                              30469 non-null  float64\n",
      " 48  additional_education_km                30469 non-null  float64\n",
      " 49  preschool_km                           30469 non-null  float64\n",
      " 50  big_church_km                          30469 non-null  float64\n",
      " 51  church_synagogue_km                    30469 non-null  float64\n",
      " 52  theater_km                             30469 non-null  float64\n",
      " 53  museum_km                              30469 non-null  float64\n",
      " 54  ecology                                30469 non-null  object \n",
      " 55  price_doc                              30469 non-null  int64  \n",
      "dtypes: float64(41), int64(13), object(2)\n",
      "memory usage: 13.0+ MB\n"
     ]
    }
   ],
   "source": [
    "data.info()"
   ]
  },
  {
   "cell_type": "code",
   "execution_count": 100,
   "id": "75ee0452",
   "metadata": {},
   "outputs": [],
   "source": [
    "test_data = pd.DataFrame([[1, 2, np.nan], [3, np.nan, 4],\n",
    "                          [0, 1, 2]], columns=['one', 'two', 'three'])"
   ]
  },
  {
   "cell_type": "code",
   "execution_count": 101,
   "id": "5b75beab",
   "metadata": {},
   "outputs": [
    {
     "data": {
      "text/html": [
       "<div>\n",
       "<style scoped>\n",
       "    .dataframe tbody tr th:only-of-type {\n",
       "        vertical-align: middle;\n",
       "    }\n",
       "\n",
       "    .dataframe tbody tr th {\n",
       "        vertical-align: top;\n",
       "    }\n",
       "\n",
       "    .dataframe thead th {\n",
       "        text-align: right;\n",
       "    }\n",
       "</style>\n",
       "<table border=\"1\" class=\"dataframe\">\n",
       "  <thead>\n",
       "    <tr style=\"text-align: right;\">\n",
       "      <th></th>\n",
       "      <th>one</th>\n",
       "      <th>two</th>\n",
       "      <th>three</th>\n",
       "    </tr>\n",
       "  </thead>\n",
       "  <tbody>\n",
       "    <tr>\n",
       "      <th>0</th>\n",
       "      <td>False</td>\n",
       "      <td>False</td>\n",
       "      <td>True</td>\n",
       "    </tr>\n",
       "    <tr>\n",
       "      <th>1</th>\n",
       "      <td>False</td>\n",
       "      <td>True</td>\n",
       "      <td>False</td>\n",
       "    </tr>\n",
       "    <tr>\n",
       "      <th>2</th>\n",
       "      <td>False</td>\n",
       "      <td>False</td>\n",
       "      <td>False</td>\n",
       "    </tr>\n",
       "  </tbody>\n",
       "</table>\n",
       "</div>"
      ],
      "text/plain": [
       "     one    two  three\n",
       "0  False  False   True\n",
       "1  False   True  False\n",
       "2  False  False  False"
      ]
     },
     "execution_count": 101,
     "metadata": {},
     "output_type": "execute_result"
    }
   ],
   "source": [
    "test_data.isna()"
   ]
  },
  {
   "cell_type": "code",
   "execution_count": 102,
   "id": "65848754",
   "metadata": {},
   "outputs": [
    {
     "data": {
      "text/html": [
       "<div>\n",
       "<style scoped>\n",
       "    .dataframe tbody tr th:only-of-type {\n",
       "        vertical-align: middle;\n",
       "    }\n",
       "\n",
       "    .dataframe tbody tr th {\n",
       "        vertical-align: top;\n",
       "    }\n",
       "\n",
       "    .dataframe thead th {\n",
       "        text-align: right;\n",
       "    }\n",
       "</style>\n",
       "<table border=\"1\" class=\"dataframe\">\n",
       "  <thead>\n",
       "    <tr style=\"text-align: right;\">\n",
       "      <th></th>\n",
       "      <th>one</th>\n",
       "      <th>two</th>\n",
       "      <th>three</th>\n",
       "    </tr>\n",
       "  </thead>\n",
       "  <tbody>\n",
       "    <tr>\n",
       "      <th>2</th>\n",
       "      <td>0</td>\n",
       "      <td>1.0</td>\n",
       "      <td>2.0</td>\n",
       "    </tr>\n",
       "  </tbody>\n",
       "</table>\n",
       "</div>"
      ],
      "text/plain": [
       "   one  two  three\n",
       "2    0  1.0    2.0"
      ]
     },
     "execution_count": 102,
     "metadata": {},
     "output_type": "execute_result"
    }
   ],
   "source": [
    "test_data.dropna(axis=0)"
   ]
  },
  {
   "cell_type": "markdown",
   "id": "97092cb2",
   "metadata": {},
   "source": [
    "# 2.4. Проблемы данных"
   ]
  },
  {
   "cell_type": "markdown",
   "id": "0e950c45",
   "metadata": {},
   "source": [
    "### Задание 2.4.1\n",
    "\n",
    "Какие бывают проблемы с данными?\n",
    "\n",
    "ans = Некорректная модель после обучения на данных; Неполные данные; Грязные данные; Плохая разметка данных;Утечка данных\n",
    " \n",
    "\n",
    "### Задание 2.4.2\n",
    "\n",
    "Какие данные мы называем неполными?\n",
    "\n",
    "ans = В данных есть пропуски; Нет данных за какой-то период; В данных смешиваются буквы из разных языков; Данные есть только для части задач\n",
    " \n",
    "\n",
    "### Задание 2.4.3\n",
    "\n",
    "Выберите примеры грязных данных:\n",
    "\n",
    "\n",
    "ans = В данных есть пропуски; Некоторые символы написаны не тем языком\n",
    "\n",
    "\n",
    "### Задание 2.4.4\n",
    "\n",
    "Что такое утечка в данных?\n",
    "\n",
    "\n",
    "ans = В данных есть признаки, от которых явно зависит целевая переменная\n",
    "\n",
    "### Задание 2.4.5\n",
    "\n",
    "Вам прислали текст на русском языке, где попадаются китайские иероглифы. Часть параметров задаётся в метрах и сантиметрах, а некоторые — в ли, уин и чи. К какому типу данных можно отнести полученную информацию?\n",
    "\n",
    "\n",
    "ans = Грязные данные\n",
    "\n",
    "\n",
    "### Задание 2.4.6\n",
    "\n",
    "Что такое разметка данных?\n",
    "\n",
    "\n",
    "ans = Процесс снижения влияния человеческого фактора на данные\n",
    "\n",
    "### Задание 2.4.7\n",
    "\n",
    "Что из этого не является примером плохой разметки?\n",
    "\n",
    "\n",
    "ans = Отсутствуют некоторые значения нецелевых переменных в данных"
   ]
  },
  {
   "cell_type": "markdown",
   "id": "f233afaa",
   "metadata": {},
   "source": [
    "# 2.5. Работа с пропусками"
   ]
  },
  {
   "cell_type": "markdown",
   "id": "b973cd39",
   "metadata": {},
   "source": [
    "### Задание 2.5.1\n",
    "\n",
    "Что такое данные с пропусками?\n",
    "\n",
    "\n",
    "ans - Данные, в которых пропущена часть значений для нецелевой переменной верно\n",
    "\n",
    "\n",
    "### Задание 2.5.2\n",
    "\n",
    "Какие из следующих случаев являются пропусками?\n",
    "\n",
    "ans = Не все респонденты при опросе указали возраст; Часть значений указаны как nan; При передаче данных пришло 700 строк из 1000\n",
    "\n",
    "### Задание 2.5.3\n",
    "\n",
    "Как можно обработать пропуски?\n",
    "\n",
    "ans = Вернуть данные с пропусками; Удалить данные с пропусками; Заменить пропущенные данные константой; Обучить алгоритм, заменяющий пропуски\n"
   ]
  },
  {
   "cell_type": "markdown",
   "id": "6ca0a1c4",
   "metadata": {},
   "source": [
    "# 2.6. Практика"
   ]
  },
  {
   "cell_type": "code",
   "execution_count": 103,
   "id": "e26c554b",
   "metadata": {},
   "outputs": [
    {
     "data": {
      "text/html": [
       "<div>\n",
       "<style scoped>\n",
       "    .dataframe tbody tr th:only-of-type {\n",
       "        vertical-align: middle;\n",
       "    }\n",
       "\n",
       "    .dataframe tbody tr th {\n",
       "        vertical-align: top;\n",
       "    }\n",
       "\n",
       "    .dataframe thead th {\n",
       "        text-align: right;\n",
       "    }\n",
       "</style>\n",
       "<table border=\"1\" class=\"dataframe\">\n",
       "  <thead>\n",
       "    <tr style=\"text-align: right;\">\n",
       "      <th></th>\n",
       "      <th>one</th>\n",
       "      <th>two</th>\n",
       "      <th>three</th>\n",
       "    </tr>\n",
       "  </thead>\n",
       "  <tbody>\n",
       "    <tr>\n",
       "      <th>0</th>\n",
       "      <td>1</td>\n",
       "      <td>2.0</td>\n",
       "      <td>-1.0</td>\n",
       "    </tr>\n",
       "    <tr>\n",
       "      <th>1</th>\n",
       "      <td>3</td>\n",
       "      <td>-1.0</td>\n",
       "      <td>4.0</td>\n",
       "    </tr>\n",
       "    <tr>\n",
       "      <th>2</th>\n",
       "      <td>0</td>\n",
       "      <td>1.0</td>\n",
       "      <td>2.0</td>\n",
       "    </tr>\n",
       "  </tbody>\n",
       "</table>\n",
       "</div>"
      ],
      "text/plain": [
       "   one  two  three\n",
       "0    1  2.0   -1.0\n",
       "1    3 -1.0    4.0\n",
       "2    0  1.0    2.0"
      ]
     },
     "execution_count": 103,
     "metadata": {},
     "output_type": "execute_result"
    }
   ],
   "source": [
    "test_data.fillna(-1)"
   ]
  },
  {
   "cell_type": "markdown",
   "id": "12125ff7",
   "metadata": {},
   "source": [
    "# 2.7. Начальная обработка"
   ]
  },
  {
   "cell_type": "markdown",
   "id": "6e093a77",
   "metadata": {},
   "source": [
    "### Задание 2.7.1\n",
    "\n",
    "Что такое нормализация данных?\n",
    "\n",
    "ans = Процесс приведения данных к одному масштабу \n",
    "\n",
    "\n",
    "### Задание 2.7.2\n",
    "\n",
    "Выберите методы нормализации:\n",
    "\n",
    "ans = MinMax; Стандартная\n",
    "\n",
    "\n",
    "\n",
    "\n",
    "### Задание 2.7.3\n",
    "\n",
    "В каком случае лучше просто удалить данные, чем как-либо их обрабатывать?\n",
    "\n",
    "ans = Признак не несёт полезной информации верно\n"
   ]
  },
  {
   "cell_type": "markdown",
   "id": "6df836da",
   "metadata": {},
   "source": [
    "# 2.8. Практика"
   ]
  },
  {
   "cell_type": "code",
   "execution_count": 104,
   "id": "c41b5352",
   "metadata": {},
   "outputs": [
    {
     "data": {
      "text/plain": [
       "array([[0.33333333, 1.        ,        nan],\n",
       "       [1.        ,        nan, 1.        ],\n",
       "       [0.        , 0.        , 0.        ]])"
      ]
     },
     "execution_count": 104,
     "metadata": {},
     "output_type": "execute_result"
    }
   ],
   "source": [
    "from sklearn.preprocessing import MinMaxScaler\n",
    "scaler = MinMaxScaler()\n",
    "scaler.fit_transform(test_data)"
   ]
  },
  {
   "cell_type": "code",
   "execution_count": 105,
   "id": "61188bae",
   "metadata": {},
   "outputs": [
    {
     "data": {
      "text/plain": [
       "array([[-0.26726124,  1.        ,         nan],\n",
       "       [ 1.33630621,         nan,  1.        ],\n",
       "       [-1.06904497, -1.        , -1.        ]])"
      ]
     },
     "execution_count": 105,
     "metadata": {},
     "output_type": "execute_result"
    }
   ],
   "source": [
    "from sklearn.preprocessing import StandardScaler\n",
    "scaler = StandardScaler()\n",
    "scaler.fit_transform(test_data)  "
   ]
  },
  {
   "cell_type": "code",
   "execution_count": 106,
   "id": "6c3d80b7",
   "metadata": {},
   "outputs": [
    {
     "data": {
      "text/html": [
       "<div>\n",
       "<style scoped>\n",
       "    .dataframe tbody tr th:only-of-type {\n",
       "        vertical-align: middle;\n",
       "    }\n",
       "\n",
       "    .dataframe tbody tr th {\n",
       "        vertical-align: top;\n",
       "    }\n",
       "\n",
       "    .dataframe thead th {\n",
       "        text-align: right;\n",
       "    }\n",
       "</style>\n",
       "<table border=\"1\" class=\"dataframe\">\n",
       "  <thead>\n",
       "    <tr style=\"text-align: right;\">\n",
       "      <th></th>\n",
       "      <th>two</th>\n",
       "      <th>three</th>\n",
       "    </tr>\n",
       "  </thead>\n",
       "  <tbody>\n",
       "    <tr>\n",
       "      <th>0</th>\n",
       "      <td>2.0</td>\n",
       "      <td>NaN</td>\n",
       "    </tr>\n",
       "    <tr>\n",
       "      <th>1</th>\n",
       "      <td>NaN</td>\n",
       "      <td>4.0</td>\n",
       "    </tr>\n",
       "    <tr>\n",
       "      <th>2</th>\n",
       "      <td>1.0</td>\n",
       "      <td>2.0</td>\n",
       "    </tr>\n",
       "  </tbody>\n",
       "</table>\n",
       "</div>"
      ],
      "text/plain": [
       "   two  three\n",
       "0  2.0    NaN\n",
       "1  NaN    4.0\n",
       "2  1.0    2.0"
      ]
     },
     "execution_count": 106,
     "metadata": {},
     "output_type": "execute_result"
    }
   ],
   "source": [
    "test_data.drop('one', axis=1)"
   ]
  },
  {
   "cell_type": "markdown",
   "id": "d84e8c2f",
   "metadata": {},
   "source": [
    "# 2.9. Визуализация"
   ]
  },
  {
   "cell_type": "markdown",
   "id": "e5c7e528",
   "metadata": {},
   "source": [
    "### Задание 2.9.1\n",
    "\n",
    "С помощью какого графика нагляднее всего можно показать нормализованные данные?\n",
    "\n",
    "ans = Гистограмма верно\n",
    "\n",
    "\n",
    "### Задание 2.9.2\n",
    "\n",
    "Что позволяет сделать гистограмма?\n",
    "\n",
    "ans = распределить данные; выделить неверные значения; сделать данные понятными визуально\n",
    "\n",
    "\n",
    "- [ ]  \n",
    "- [ ]  \n",
    "\n",
    "### Задание 2.9.3\n",
    "\n",
    "Выберите из списка значения, которые имеют абсолютную корреляцию выше 0.5?\n",
    "\n",
    "ans = 0.7; 0.69\n",
    "\n",
    "\n",
    "\n",
    "### Задание 2.9.4\n",
    "\n",
    "Если зависимость большая и линейная, то какие будут значения корреляции?\n",
    "\n",
    "ans = Большие \n"
   ]
  },
  {
   "cell_type": "markdown",
   "id": "2e535043",
   "metadata": {},
   "source": [
    "# 2.10. Практика"
   ]
  },
  {
   "cell_type": "code",
   "execution_count": 107,
   "id": "7ffef0df",
   "metadata": {},
   "outputs": [
    {
     "data": {
      "text/html": [
       "<div>\n",
       "<style scoped>\n",
       "    .dataframe tbody tr th:only-of-type {\n",
       "        vertical-align: middle;\n",
       "    }\n",
       "\n",
       "    .dataframe tbody tr th {\n",
       "        vertical-align: top;\n",
       "    }\n",
       "\n",
       "    .dataframe thead th {\n",
       "        text-align: right;\n",
       "    }\n",
       "</style>\n",
       "<table border=\"1\" class=\"dataframe\">\n",
       "  <thead>\n",
       "    <tr style=\"text-align: right;\">\n",
       "      <th></th>\n",
       "      <th>ticket_id</th>\n",
       "      <th>agency_name</th>\n",
       "      <th>inspector_name</th>\n",
       "      <th>violator_name</th>\n",
       "      <th>violation_street_number</th>\n",
       "      <th>violation_street_name</th>\n",
       "      <th>violation_zip_code</th>\n",
       "      <th>mailing_address_str_number</th>\n",
       "      <th>mailing_address_str_name</th>\n",
       "      <th>city</th>\n",
       "      <th>...</th>\n",
       "      <th>clean_up_cost</th>\n",
       "      <th>judgment_amount</th>\n",
       "      <th>payment_amount</th>\n",
       "      <th>balance_due</th>\n",
       "      <th>payment_date</th>\n",
       "      <th>payment_status</th>\n",
       "      <th>collection_status</th>\n",
       "      <th>grafitti_status</th>\n",
       "      <th>compliance_detail</th>\n",
       "      <th>compliance</th>\n",
       "    </tr>\n",
       "  </thead>\n",
       "  <tbody>\n",
       "    <tr>\n",
       "      <th>0</th>\n",
       "      <td>22056</td>\n",
       "      <td>Buildings, Safety Engineering &amp; Env Department</td>\n",
       "      <td>Sims, Martinzie</td>\n",
       "      <td>INVESTMENT INC., MIDWEST MORTGAGE</td>\n",
       "      <td>2900.0</td>\n",
       "      <td>TYLER</td>\n",
       "      <td>NaN</td>\n",
       "      <td>3.0</td>\n",
       "      <td>S. WICKER</td>\n",
       "      <td>CHICAGO</td>\n",
       "      <td>...</td>\n",
       "      <td>0.0</td>\n",
       "      <td>305.0</td>\n",
       "      <td>0.0</td>\n",
       "      <td>305.0</td>\n",
       "      <td>NaN</td>\n",
       "      <td>NO PAYMENT APPLIED</td>\n",
       "      <td>NaN</td>\n",
       "      <td>NaN</td>\n",
       "      <td>non-compliant by no payment</td>\n",
       "      <td>0.0</td>\n",
       "    </tr>\n",
       "    <tr>\n",
       "      <th>1</th>\n",
       "      <td>27586</td>\n",
       "      <td>Buildings, Safety Engineering &amp; Env Department</td>\n",
       "      <td>Williams, Darrin</td>\n",
       "      <td>Michigan, Covenant House</td>\n",
       "      <td>4311.0</td>\n",
       "      <td>CENTRAL</td>\n",
       "      <td>NaN</td>\n",
       "      <td>2959.0</td>\n",
       "      <td>Martin Luther King</td>\n",
       "      <td>Detroit</td>\n",
       "      <td>...</td>\n",
       "      <td>0.0</td>\n",
       "      <td>855.0</td>\n",
       "      <td>780.0</td>\n",
       "      <td>75.0</td>\n",
       "      <td>2005-06-02 00:00:00</td>\n",
       "      <td>PAID IN FULL</td>\n",
       "      <td>NaN</td>\n",
       "      <td>NaN</td>\n",
       "      <td>compliant by late payment within 1 month</td>\n",
       "      <td>1.0</td>\n",
       "    </tr>\n",
       "  </tbody>\n",
       "</table>\n",
       "<p>2 rows × 34 columns</p>\n",
       "</div>"
      ],
      "text/plain": [
       "   ticket_id                                     agency_name  \\\n",
       "0      22056  Buildings, Safety Engineering & Env Department   \n",
       "1      27586  Buildings, Safety Engineering & Env Department   \n",
       "\n",
       "     inspector_name                      violator_name  \\\n",
       "0   Sims, Martinzie  INVESTMENT INC., MIDWEST MORTGAGE   \n",
       "1  Williams, Darrin           Michigan, Covenant House   \n",
       "\n",
       "   violation_street_number violation_street_name  violation_zip_code  \\\n",
       "0                   2900.0                 TYLER                 NaN   \n",
       "1                   4311.0               CENTRAL                 NaN   \n",
       "\n",
       "   mailing_address_str_number mailing_address_str_name     city  ...  \\\n",
       "0                         3.0                S. WICKER  CHICAGO  ...   \n",
       "1                      2959.0       Martin Luther King  Detroit  ...   \n",
       "\n",
       "  clean_up_cost judgment_amount payment_amount balance_due  \\\n",
       "0           0.0           305.0            0.0       305.0   \n",
       "1           0.0           855.0          780.0        75.0   \n",
       "\n",
       "          payment_date      payment_status collection_status grafitti_status  \\\n",
       "0                  NaN  NO PAYMENT APPLIED               NaN             NaN   \n",
       "1  2005-06-02 00:00:00        PAID IN FULL               NaN             NaN   \n",
       "\n",
       "                          compliance_detail  compliance  \n",
       "0               non-compliant by no payment         0.0  \n",
       "1  compliant by late payment within 1 month         1.0  \n",
       "\n",
       "[2 rows x 34 columns]"
      ]
     },
     "execution_count": 107,
     "metadata": {},
     "output_type": "execute_result"
    }
   ],
   "source": [
    "%matplotlib inline\n",
    "vis_data = pd.read_csv(\"./train.csv\",encoding = 'ISO-8859-1',\n",
    "                       low_memory = False)\n",
    "vis_data.head(2)"
   ]
  },
  {
   "cell_type": "code",
   "execution_count": 108,
   "id": "2724d985",
   "metadata": {},
   "outputs": [
    {
     "data": {
      "text/plain": [
       "<AxesSubplot:>"
      ]
     },
     "execution_count": 108,
     "metadata": {},
     "output_type": "execute_result"
    },
    {
     "data": {
      "image/png": "[encoded data removed]",
      "text/plain": [
       "<Figure size 432x288 with 1 Axes>"
      ]
     },
     "metadata": {
      "needs_background": "light"
     },
     "output_type": "display_data"
    }
   ],
   "source": [
    "np.log(vis_data.balance_due[vis_data.balance_due > 0]).hist()"
   ]
  },
  {
   "cell_type": "code",
   "execution_count": 109,
   "id": "0035b654",
   "metadata": {},
   "outputs": [
    {
     "data": {
      "text/plain": [
       "<AxesSubplot:>"
      ]
     },
     "execution_count": 109,
     "metadata": {},
     "output_type": "execute_result"
    },
    {
     "data": {
      "image/png": "[encoded data removed]",
      "text/plain": [
       "<Figure size 432x288 with 1 Axes>"
      ]
     },
     "metadata": {
      "needs_background": "light"
     },
     "output_type": "display_data"
    }
   ],
   "source": [
    "np.sqrt(vis_data.balance_due[vis_data.balance_due > 0]).hist()"
   ]
  },
  {
   "cell_type": "code",
   "execution_count": 110,
   "id": "7f2f24ce",
   "metadata": {},
   "outputs": [
    {
     "name": "stderr",
     "output_type": "stream",
     "text": [
      "C:\\Users\\medin\\AppData\\Local\\Temp\\ipykernel_18404\\4212639271.py:21: FutureWarning: this method is deprecated in favour of `Styler.format(precision=..)`\n",
      "  corr.style.background_gradient(cmap, axis=1)\\\n"
     ]
    },
    {
     "data": {
      "text/html": [
       "<style type=\"text/css\">\n",
       "#T_c5c01 th {\n",
       "  font-size: 7pt;\n",
       "}\n",
       "#T_c5c01 td {\n",
       "  padding: 0em 0em;\n",
       "}\n",
       "#T_c5c01 th:hover {\n",
       "  font-size: 12pt;\n",
       "}\n",
       "#T_c5c01 tr:hover td:hover {\n",
       "  max-width: 200px;\n",
       "  font-size: 12pt;\n",
       "}\n",
       "#T_c5c01_row0_col0, #T_c5c01_row1_col1, #T_c5c01_row1_col2, #T_c5c01_row2_col1, #T_c5c01_row2_col2, #T_c5c01_row3_col3, #T_c5c01_row4_col4, #T_c5c01_row5_col5, #T_c5c01_row6_col6 {\n",
       "  background-color: #4479bb;\n",
       "  color: #f1f1f1;\n",
       "  max-width: 80px;\n",
       "  font-size: 10pt;\n",
       "}\n",
       "#T_c5c01_row0_col1, #T_c5c01_row0_col2, #T_c5c01_row1_col0, #T_c5c01_row2_col0, #T_c5c01_row3_col4, #T_c5c01_row4_col0, #T_c5c01_row4_col6, #T_c5c01_row5_col0, #T_c5c01_row6_col4 {\n",
       "  background-color: #d73c5b;\n",
       "  color: #f1f1f1;\n",
       "  max-width: 80px;\n",
       "  font-size: 10pt;\n",
       "}\n",
       "#T_c5c01_row0_col3 {\n",
       "  background-color: #d94663;\n",
       "  color: #f1f1f1;\n",
       "  max-width: 80px;\n",
       "  font-size: 10pt;\n",
       "}\n",
       "#T_c5c01_row0_col4 {\n",
       "  background-color: #d8415f;\n",
       "  color: #f1f1f1;\n",
       "  max-width: 80px;\n",
       "  font-size: 10pt;\n",
       "}\n",
       "#T_c5c01_row0_col5 {\n",
       "  background-color: #d84462;\n",
       "  color: #f1f1f1;\n",
       "  max-width: 80px;\n",
       "  font-size: 10pt;\n",
       "}\n",
       "#T_c5c01_row0_col6 {\n",
       "  background-color: #d94a67;\n",
       "  color: #f1f1f1;\n",
       "  max-width: 80px;\n",
       "  font-size: 10pt;\n",
       "}\n",
       "#T_c5c01_row1_col3, #T_c5c01_row2_col3 {\n",
       "  background-color: #e8adb8;\n",
       "  color: #000000;\n",
       "  max-width: 80px;\n",
       "  font-size: 10pt;\n",
       "}\n",
       "#T_c5c01_row1_col4, #T_c5c01_row2_col4 {\n",
       "  background-color: #db526e;\n",
       "  color: #f1f1f1;\n",
       "  max-width: 80px;\n",
       "  font-size: 10pt;\n",
       "}\n",
       "#T_c5c01_row1_col5, #T_c5c01_row2_col5 {\n",
       "  background-color: #eab9c3;\n",
       "  color: #000000;\n",
       "  max-width: 80px;\n",
       "  font-size: 10pt;\n",
       "}\n",
       "#T_c5c01_row1_col6, #T_c5c01_row2_col6 {\n",
       "  background-color: #e8aab6;\n",
       "  color: #000000;\n",
       "  max-width: 80px;\n",
       "  font-size: 10pt;\n",
       "}\n",
       "#T_c5c01_row3_col0 {\n",
       "  background-color: #d83e5d;\n",
       "  color: #f1f1f1;\n",
       "  max-width: 80px;\n",
       "  font-size: 10pt;\n",
       "}\n",
       "#T_c5c01_row3_col1, #T_c5c01_row3_col2 {\n",
       "  background-color: #e7a7b4;\n",
       "  color: #000000;\n",
       "  max-width: 80px;\n",
       "  font-size: 10pt;\n",
       "}\n",
       "#T_c5c01_row3_col5, #T_c5c01_row5_col3 {\n",
       "  background-color: #477bbb;\n",
       "  color: #f1f1f1;\n",
       "  max-width: 80px;\n",
       "  font-size: 10pt;\n",
       "}\n",
       "#T_c5c01_row3_col6 {\n",
       "  background-color: #5585c0;\n",
       "  color: #f1f1f1;\n",
       "  max-width: 80px;\n",
       "  font-size: 10pt;\n",
       "}\n",
       "#T_c5c01_row4_col1, #T_c5c01_row4_col2 {\n",
       "  background-color: #da4b68;\n",
       "  color: #f1f1f1;\n",
       "  max-width: 80px;\n",
       "  font-size: 10pt;\n",
       "}\n",
       "#T_c5c01_row4_col3 {\n",
       "  background-color: #d73d5c;\n",
       "  color: #f1f1f1;\n",
       "  max-width: 80px;\n",
       "  font-size: 10pt;\n",
       "}\n",
       "#T_c5c01_row4_col5 {\n",
       "  background-color: #da516c;\n",
       "  color: #f1f1f1;\n",
       "  max-width: 80px;\n",
       "  font-size: 10pt;\n",
       "}\n",
       "#T_c5c01_row5_col1, #T_c5c01_row5_col2 {\n",
       "  background-color: #e9b4be;\n",
       "  color: #000000;\n",
       "  max-width: 80px;\n",
       "  font-size: 10pt;\n",
       "}\n",
       "#T_c5c01_row5_col4 {\n",
       "  background-color: #da4e6a;\n",
       "  color: #f1f1f1;\n",
       "  max-width: 80px;\n",
       "  font-size: 10pt;\n",
       "}\n",
       "#T_c5c01_row5_col6, #T_c5c01_row6_col5 {\n",
       "  background-color: #5786c1;\n",
       "  color: #f1f1f1;\n",
       "  max-width: 80px;\n",
       "  font-size: 10pt;\n",
       "}\n",
       "#T_c5c01_row6_col0 {\n",
       "  background-color: #d84361;\n",
       "  color: #f1f1f1;\n",
       "  max-width: 80px;\n",
       "  font-size: 10pt;\n",
       "}\n",
       "#T_c5c01_row6_col1, #T_c5c01_row6_col2 {\n",
       "  background-color: #e7a4b1;\n",
       "  color: #000000;\n",
       "  max-width: 80px;\n",
       "  font-size: 10pt;\n",
       "}\n",
       "#T_c5c01_row6_col3 {\n",
       "  background-color: #5484c0;\n",
       "  color: #f1f1f1;\n",
       "  max-width: 80px;\n",
       "  font-size: 10pt;\n",
       "}\n",
       "</style>\n",
       "<table id=\"T_c5c01\">\n",
       "  <caption>Hover to magify</caption>\n",
       "  <thead>\n",
       "    <tr>\n",
       "      <th class=\"blank level0\" >&nbsp;</th>\n",
       "      <th id=\"T_c5c01_level0_col0\" class=\"col_heading level0 col0\" >ticket_id</th>\n",
       "      <th id=\"T_c5c01_level0_col1\" class=\"col_heading level0 col1\" >admin_fee</th>\n",
       "      <th id=\"T_c5c01_level0_col2\" class=\"col_heading level0 col2\" >state_fee</th>\n",
       "      <th id=\"T_c5c01_level0_col3\" class=\"col_heading level0 col3\" >late_fee</th>\n",
       "      <th id=\"T_c5c01_level0_col4\" class=\"col_heading level0 col4\" >discount_amount</th>\n",
       "      <th id=\"T_c5c01_level0_col5\" class=\"col_heading level0 col5\" >judgment_amount</th>\n",
       "      <th id=\"T_c5c01_level0_col6\" class=\"col_heading level0 col6\" >balance_due</th>\n",
       "    </tr>\n",
       "  </thead>\n",
       "  <tbody>\n",
       "    <tr>\n",
       "      <th id=\"T_c5c01_level0_row0\" class=\"row_heading level0 row0\" >ticket_id</th>\n",
       "      <td id=\"T_c5c01_row0_col0\" class=\"data row0 col0\" >1.00</td>\n",
       "      <td id=\"T_c5c01_row0_col1\" class=\"data row0 col1\" >-0.04</td>\n",
       "      <td id=\"T_c5c01_row0_col2\" class=\"data row0 col2\" >-0.04</td>\n",
       "      <td id=\"T_c5c01_row0_col3\" class=\"data row0 col3\" >-0.01</td>\n",
       "      <td id=\"T_c5c01_row0_col4\" class=\"data row0 col4\" >-0.02</td>\n",
       "      <td id=\"T_c5c01_row0_col5\" class=\"data row0 col5\" >-0.01</td>\n",
       "      <td id=\"T_c5c01_row0_col6\" class=\"data row0 col6\" >0.00</td>\n",
       "    </tr>\n",
       "    <tr>\n",
       "      <th id=\"T_c5c01_level0_row1\" class=\"row_heading level0 row1\" >admin_fee</th>\n",
       "      <td id=\"T_c5c01_row1_col0\" class=\"data row1 col0\" >-0.04</td>\n",
       "      <td id=\"T_c5c01_row1_col1\" class=\"data row1 col1\" >1.00</td>\n",
       "      <td id=\"T_c5c01_row1_col2\" class=\"data row1 col2\" >1.00</td>\n",
       "      <td id=\"T_c5c01_row1_col3\" class=\"data row1 col3\" >0.29</td>\n",
       "      <td id=\"T_c5c01_row1_col4\" class=\"data row1 col4\" >0.03</td>\n",
       "      <td id=\"T_c5c01_row1_col5\" class=\"data row1 col5\" >0.32</td>\n",
       "      <td id=\"T_c5c01_row1_col6\" class=\"data row1 col6\" >0.28</td>\n",
       "    </tr>\n",
       "    <tr>\n",
       "      <th id=\"T_c5c01_level0_row2\" class=\"row_heading level0 row2\" >state_fee</th>\n",
       "      <td id=\"T_c5c01_row2_col0\" class=\"data row2 col0\" >-0.04</td>\n",
       "      <td id=\"T_c5c01_row2_col1\" class=\"data row2 col1\" >1.00</td>\n",
       "      <td id=\"T_c5c01_row2_col2\" class=\"data row2 col2\" >1.00</td>\n",
       "      <td id=\"T_c5c01_row2_col3\" class=\"data row2 col3\" >0.29</td>\n",
       "      <td id=\"T_c5c01_row2_col4\" class=\"data row2 col4\" >0.03</td>\n",
       "      <td id=\"T_c5c01_row2_col5\" class=\"data row2 col5\" >0.32</td>\n",
       "      <td id=\"T_c5c01_row2_col6\" class=\"data row2 col6\" >0.28</td>\n",
       "    </tr>\n",
       "    <tr>\n",
       "      <th id=\"T_c5c01_level0_row3\" class=\"row_heading level0 row3\" >late_fee</th>\n",
       "      <td id=\"T_c5c01_row3_col0\" class=\"data row3 col0\" >-0.01</td>\n",
       "      <td id=\"T_c5c01_row3_col1\" class=\"data row3 col1\" >0.29</td>\n",
       "      <td id=\"T_c5c01_row3_col2\" class=\"data row3 col2\" >0.29</td>\n",
       "      <td id=\"T_c5c01_row3_col3\" class=\"data row3 col3\" >1.00</td>\n",
       "      <td id=\"T_c5c01_row3_col4\" class=\"data row3 col4\" >-0.01</td>\n",
       "      <td id=\"T_c5c01_row3_col5\" class=\"data row3 col5\" >0.99</td>\n",
       "      <td id=\"T_c5c01_row3_col6\" class=\"data row3 col6\" >0.95</td>\n",
       "    </tr>\n",
       "    <tr>\n",
       "      <th id=\"T_c5c01_level0_row4\" class=\"row_heading level0 row4\" >discount_amount</th>\n",
       "      <td id=\"T_c5c01_row4_col0\" class=\"data row4 col0\" >-0.02</td>\n",
       "      <td id=\"T_c5c01_row4_col1\" class=\"data row4 col1\" >0.03</td>\n",
       "      <td id=\"T_c5c01_row4_col2\" class=\"data row4 col2\" >0.03</td>\n",
       "      <td id=\"T_c5c01_row4_col3\" class=\"data row4 col3\" >-0.01</td>\n",
       "      <td id=\"T_c5c01_row4_col4\" class=\"data row4 col4\" >1.00</td>\n",
       "      <td id=\"T_c5c01_row4_col5\" class=\"data row4 col5\" >0.04</td>\n",
       "      <td id=\"T_c5c01_row4_col6\" class=\"data row4 col6\" >-0.02</td>\n",
       "    </tr>\n",
       "    <tr>\n",
       "      <th id=\"T_c5c01_level0_row5\" class=\"row_heading level0 row5\" >judgment_amount</th>\n",
       "      <td id=\"T_c5c01_row5_col0\" class=\"data row5 col0\" >-0.01</td>\n",
       "      <td id=\"T_c5c01_row5_col1\" class=\"data row5 col1\" >0.32</td>\n",
       "      <td id=\"T_c5c01_row5_col2\" class=\"data row5 col2\" >0.32</td>\n",
       "      <td id=\"T_c5c01_row5_col3\" class=\"data row5 col3\" >0.99</td>\n",
       "      <td id=\"T_c5c01_row5_col4\" class=\"data row5 col4\" >0.04</td>\n",
       "      <td id=\"T_c5c01_row5_col5\" class=\"data row5 col5\" >1.00</td>\n",
       "      <td id=\"T_c5c01_row5_col6\" class=\"data row5 col6\" >0.94</td>\n",
       "    </tr>\n",
       "    <tr>\n",
       "      <th id=\"T_c5c01_level0_row6\" class=\"row_heading level0 row6\" >balance_due</th>\n",
       "      <td id=\"T_c5c01_row6_col0\" class=\"data row6 col0\" >0.00</td>\n",
       "      <td id=\"T_c5c01_row6_col1\" class=\"data row6 col1\" >0.28</td>\n",
       "      <td id=\"T_c5c01_row6_col2\" class=\"data row6 col2\" >0.28</td>\n",
       "      <td id=\"T_c5c01_row6_col3\" class=\"data row6 col3\" >0.95</td>\n",
       "      <td id=\"T_c5c01_row6_col4\" class=\"data row6 col4\" >-0.02</td>\n",
       "      <td id=\"T_c5c01_row6_col5\" class=\"data row6 col5\" >0.94</td>\n",
       "      <td id=\"T_c5c01_row6_col6\" class=\"data row6 col6\" >1.00</td>\n",
       "    </tr>\n",
       "  </tbody>\n",
       "</table>\n"
      ],
      "text/plain": [
       "<pandas.io.formats.style.Styler at 0x1fb05a67340>"
      ]
     },
     "execution_count": 110,
     "metadata": {},
     "output_type": "execute_result"
    }
   ],
   "source": [
    "import seaborn as sns\n",
    "corr = vis_data.drop(['violation_zip_code', 'payment_amount',\n",
    "                      'clean_up_cost',\n",
    "                      'violation_street_number'], axis=1).\\\n",
    "                dropna(axis=1).\\\n",
    "                corr()\n",
    "cmap = sns.diverging_palette(5,250, as_cmap=True)\n",
    "\n",
    "def magnify():\n",
    "    return [dict(selector=\"th\",\n",
    "                 props=[(\"font-size\", \"7pt\")]),\n",
    "            dict(selector=\"td\",\n",
    "                 props=[('padding', \"0em 0em\")]),\n",
    "            dict(selector=\"th:hover\",\n",
    "                 props=[(\"font-size\", \"12pt\")]),\n",
    "            dict(selector=\"tr:hover td:hover\",\n",
    "                 props=[('max-width', '200px'),\n",
    "                        ('font-size', '12pt')])\n",
    "]\n",
    "\n",
    "corr.style.background_gradient(cmap, axis=1)\\\n",
    "    .set_properties(**{'max-width': '80px', 'font-size': '10pt'})\\\n",
    "    .set_caption(\"Hover to magify\")\\\n",
    "    .set_precision(2)\\\n",
    "    .set_table_styles(magnify())"
   ]
  },
  {
   "cell_type": "markdown",
   "id": "52c100ac",
   "metadata": {},
   "source": [
    "# 2.11. Feature Engineering"
   ]
  },
  {
   "cell_type": "markdown",
   "id": "436303d2",
   "metadata": {},
   "source": [
    "### Задание 2.11.1\n",
    "\n",
    "Отметьте способы создания признака:\n",
    "\n",
    "ans = Работа с датой/временем; Ручное создание признаков; Dummy-переменные; Полиномиальные признаки; Статистики по наборам признаков\n",
    " \n",
    "\n",
    "### Задание 2.11.2\n",
    "\n",
    "Как лучше обрабатывать категориальные признаки?\n",
    "\n",
    "ans - Преобразовавать в Dummy-переменные верно\n",
    "\n",
    "\n",
    "### Задание 2.11.3\n",
    "\n",
    "Какую информацию можно получить из строки «2019-07-03»?\n",
    "\n",
    "ans = День, месяц, год; День недели; Праздничный ли это день\n",
    "\n",
    "\n",
    "### Задание 2.11.4\n",
    "\n",
    "Предположим, что нам известны координаты дома. Какой новый признак мы не сможем создать на его основе?\n",
    "\n",
    "\n",
    "ans = Количество людей, проживающих в доме\n",
    "\n",
    "### Задание 2.11.5\n",
    "\n",
    "Пусть события А и В независимые, известны вероятности этих событий. Нужно найти вероятность совмещения событий. К какому способу создания признаков относится указанный пример?\n",
    "\n",
    "\n",
    "ans = Полиномиальные признаки \n"
   ]
  },
  {
   "cell_type": "markdown",
   "id": "cc389c97",
   "metadata": {},
   "source": [
    "# 2.12. Практика"
   ]
  },
  {
   "cell_type": "code",
   "execution_count": 111,
   "id": "84987f09",
   "metadata": {},
   "outputs": [],
   "source": [
    "import numpy as np\n",
    "import pandas as pd\n",
    "%matplotlib inline\n",
    "\n",
    "vis_data = pd.read_csv(\"train.csv\",encoding = 'ISO-8859-1',low_memory = False)\n",
    "vis_data = vis_data.drop(['violation_zip_code', 'clean_up_cost'], axis=1)\n",
    "latlons = pd.read_csv(\"latlons.csv\")\n",
    "vis_data = pd.concat([vis_data, latlons], axis=1)"
   ]
  },
  {
   "cell_type": "code",
   "execution_count": 112,
   "id": "dd2ecf56",
   "metadata": {},
   "outputs": [
    {
     "data": {
      "text/plain": [
       "(250306, 6)"
      ]
     },
     "execution_count": 112,
     "metadata": {},
     "output_type": "execute_result"
    }
   ],
   "source": [
    "from sklearn.preprocessing import PolynomialFeatures\n",
    "\n",
    "pf = PolynomialFeatures(2)\n",
    "poly_features = pf.fit_transform(vis_data[['balance_due', 'payment_amount']])\n",
    "poly_features\n",
    "poly_features.shape"
   ]
  },
  {
   "cell_type": "code",
   "execution_count": 113,
   "id": "950afffe",
   "metadata": {},
   "outputs": [
    {
     "data": {
      "text/plain": [
       "(250306, 59)"
      ]
     },
     "execution_count": 113,
     "metadata": {},
     "output_type": "execute_result"
    }
   ],
   "source": [
    "pd.get_dummies(vis_data.state).shape"
   ]
  },
  {
   "cell_type": "code",
   "execution_count": 114,
   "id": "8118883e",
   "metadata": {},
   "outputs": [
    {
     "data": {
      "text/plain": [
       "1    2005-06-02\n",
       "11   2005-03-17\n",
       "15   2005-02-11\n",
       "18   2005-03-18\n",
       "19   2005-03-18\n",
       "Name: payment_date, dtype: datetime64[ns]"
      ]
     },
     "execution_count": 114,
     "metadata": {},
     "output_type": "execute_result"
    }
   ],
   "source": [
    "datetime_vals = pd.to_datetime(vis_data.payment_date.dropna())\n",
    "datetime_vals.head()"
   ]
  },
  {
   "cell_type": "code",
   "execution_count": 115,
   "id": "f84b6187",
   "metadata": {},
   "outputs": [
    {
     "data": {
      "text/plain": [
       "6"
      ]
     },
     "execution_count": 115,
     "metadata": {},
     "output_type": "execute_result"
    }
   ],
   "source": [
    "datetime_vals[1].month"
   ]
  },
  {
   "cell_type": "code",
   "execution_count": 116,
   "id": "27ec09c1",
   "metadata": {},
   "outputs": [
    {
     "ename": "NameError",
     "evalue": "name 'ecology_dict' is not defined",
     "output_type": "error",
     "traceback": [
      "\u001b[1;31m---------------------------------------------------------------------------\u001b[0m",
      "\u001b[1;31mNameError\u001b[0m                                 Traceback (most recent call last)",
      "Input \u001b[1;32mIn [116]\u001b[0m, in \u001b[0;36m<cell line: 1>\u001b[1;34m()\u001b[0m\n\u001b[1;32m----> 1\u001b[0m data\u001b[38;5;241m.\u001b[39mecology \u001b[38;5;241m=\u001b[39m data\u001b[38;5;241m.\u001b[39mecology\u001b[38;5;241m.\u001b[39mreplace(to_replace\u001b[38;5;241m=\u001b[39m \u001b[43mecology_dict\u001b[49m)\n",
      "\u001b[1;31mNameError\u001b[0m: name 'ecology_dict' is not defined"
     ]
    }
   ],
   "source": [
    "data.ecology = data.ecology.replace(to_replace= ecology_dict)"
   ]
  },
  {
   "cell_type": "markdown",
   "id": "4224f7c0",
   "metadata": {},
   "source": [
    "# 2.13. Поиск выбросов"
   ]
  },
  {
   "cell_type": "markdown",
   "id": "291a22fb",
   "metadata": {},
   "source": [
    "### Задание 2.13.1\n",
    "\n",
    "Что нужно делать с выбросами?\n",
    "\n",
    "ans = Искать; Удалять\n",
    "\n",
    " \n",
    "\n",
    "\n",
    "### Задание 2.13.2\n",
    "\n",
    "Представим, что у нас есть данные об измерении температуры на улице. Несколько значений слишком большие и не похожи на правду. Как назвать эти числа?\n",
    "\n",
    "ans = Выбросы \n",
    "\n",
    "\n",
    "### Задание 2.13.3\n",
    "\n",
    "Что такое DBSCAN?\n",
    "\n",
    "\n",
    "ans = Алгоритм кластеризации\n"
   ]
  },
  {
   "cell_type": "markdown",
   "id": "e8886ea8",
   "metadata": {},
   "source": [
    "# 2.14. Практика"
   ]
  },
  {
   "cell_type": "code",
   "execution_count": 68,
   "id": "727b4595",
   "metadata": {},
   "outputs": [
    {
     "data": {
      "text/plain": [
       "0"
      ]
     },
     "execution_count": 68,
     "metadata": {},
     "output_type": "execute_result"
    }
   ],
   "source": [
    "np.sum(vis_data.fine_amount < 0)"
   ]
  },
  {
   "cell_type": "code",
   "execution_count": 69,
   "id": "9fb840d9",
   "metadata": {},
   "outputs": [
    {
     "data": {
      "text/plain": [
       "(357, 0.0014262542647799094)"
      ]
     },
     "execution_count": 69,
     "metadata": {},
     "output_type": "execute_result"
    }
   ],
   "source": [
    "max_fine = np.max(vis_data.fine_amount)\n",
    "max_fine\n",
    "\n",
    "max_fine_count = np.sum(vis_data.fine_amount == max_fine)\n",
    "max_fine_count, max_fine_count/vis_data.shape[0]"
   ]
  },
  {
   "cell_type": "code",
   "execution_count": 78,
   "id": "e4a729b9",
   "metadata": {},
   "outputs": [
    {
     "ename": "AttributeError",
     "evalue": "'DataFrame' object has no attribute 'distance'",
     "output_type": "error",
     "traceback": [
      "\u001b[1;31m---------------------------------------------------------------------------\u001b[0m",
      "\u001b[1;31mAttributeError\u001b[0m                            Traceback (most recent call last)",
      "Input \u001b[1;32mIn [78]\u001b[0m, in \u001b[0;36m<cell line: 1>\u001b[1;34m()\u001b[0m\n\u001b[1;32m----> 1\u001b[0m \u001b[43mvis_data\u001b[49m\u001b[38;5;241;43m.\u001b[39;49m\u001b[43mdistance\u001b[49m[vis_data\u001b[38;5;241m.\u001b[39mdistance \u001b[38;5;241m>\u001b[39m\u001b[38;5;241m30\u001b[39m]\u001b[38;5;241m.\u001b[39mhist()\n\u001b[0;32m      3\u001b[0m \u001b[38;5;28;01mdef\u001b[39;00m \u001b[38;5;21moutliers_z_score\u001b[39m(ys, threshold\u001b[38;5;241m=\u001b[39m\u001b[38;5;241m3\u001b[39m):\n\u001b[0;32m      4\u001b[0m     mean_y \u001b[38;5;241m=\u001b[39m np\u001b[38;5;241m.\u001b[39mmean(ys)\n",
      "File \u001b[1;32m~\\anaconda3\\lib\\site-packages\\pandas\\core\\generic.py:5575\u001b[0m, in \u001b[0;36mNDFrame.__getattr__\u001b[1;34m(self, name)\u001b[0m\n\u001b[0;32m   5568\u001b[0m \u001b[38;5;28;01mif\u001b[39;00m (\n\u001b[0;32m   5569\u001b[0m     name \u001b[38;5;129;01mnot\u001b[39;00m \u001b[38;5;129;01min\u001b[39;00m \u001b[38;5;28mself\u001b[39m\u001b[38;5;241m.\u001b[39m_internal_names_set\n\u001b[0;32m   5570\u001b[0m     \u001b[38;5;129;01mand\u001b[39;00m name \u001b[38;5;129;01mnot\u001b[39;00m \u001b[38;5;129;01min\u001b[39;00m \u001b[38;5;28mself\u001b[39m\u001b[38;5;241m.\u001b[39m_metadata\n\u001b[0;32m   5571\u001b[0m     \u001b[38;5;129;01mand\u001b[39;00m name \u001b[38;5;129;01mnot\u001b[39;00m \u001b[38;5;129;01min\u001b[39;00m \u001b[38;5;28mself\u001b[39m\u001b[38;5;241m.\u001b[39m_accessors\n\u001b[0;32m   5572\u001b[0m     \u001b[38;5;129;01mand\u001b[39;00m \u001b[38;5;28mself\u001b[39m\u001b[38;5;241m.\u001b[39m_info_axis\u001b[38;5;241m.\u001b[39m_can_hold_identifiers_and_holds_name(name)\n\u001b[0;32m   5573\u001b[0m ):\n\u001b[0;32m   5574\u001b[0m     \u001b[38;5;28;01mreturn\u001b[39;00m \u001b[38;5;28mself\u001b[39m[name]\n\u001b[1;32m-> 5575\u001b[0m \u001b[38;5;28;01mreturn\u001b[39;00m \u001b[38;5;28;43mobject\u001b[39;49m\u001b[38;5;241;43m.\u001b[39;49m\u001b[38;5;21;43m__getattribute__\u001b[39;49m\u001b[43m(\u001b[49m\u001b[38;5;28;43mself\u001b[39;49m\u001b[43m,\u001b[49m\u001b[43m \u001b[49m\u001b[43mname\u001b[49m\u001b[43m)\u001b[49m\n",
      "\u001b[1;31mAttributeError\u001b[0m: 'DataFrame' object has no attribute 'distance'"
     ]
    }
   ],
   "source": [
    "vis_data.distance[vis_data.distance >30].hist()\n",
    "\n",
    "def outliers_z_score(ys, threshold=3):\n",
    "    mean_y = np.mean(ys)\n",
    "    std_y = np.std(ys)\n",
    "    z_scores = [(y - mean_y) / std_y for y in ys]\n",
    "return np.where(np.abs(z_scores) > threshold)[0]\n",
    "\n",
    "with warnings.catch_warnings():\n",
    "    warnings.simplefilter('ignore')\n",
    "    o = outliers_z_score(vis_data.distance)\n",
    "\n",
    "len(o)"
   ]
  },
  {
   "cell_type": "code",
   "execution_count": 79,
   "id": "eaa6d1a3",
   "metadata": {},
   "outputs": [
    {
     "ename": "SyntaxError",
     "evalue": "'return' outside function (2386328130.py, line 6)",
     "output_type": "error",
     "traceback": [
      "\u001b[1;36m  Input \u001b[1;32mIn [79]\u001b[1;36m\u001b[0m\n\u001b[1;33m    return np.where((ys > upper_bound) | (ys < lower_bound))[0]\u001b[0m\n\u001b[1;37m    ^\u001b[0m\n\u001b[1;31mSyntaxError\u001b[0m\u001b[1;31m:\u001b[0m 'return' outside function\n"
     ]
    }
   ],
   "source": [
    "def outliers_iqr(ys):\n",
    "    quartile_1, quartile_3 = np.percentile(ys, [25,75])\n",
    "    iqr = quartile_3 - quartile_1\n",
    "    lower_bound = quartile_1 - (iqr *1.5)\n",
    "    upper_bound = quartile_3 + (iqr *1.5)\n",
    "return np.where((ys > upper_bound) | (ys < lower_bound))[0]"
   ]
  },
  {
   "cell_type": "code",
   "execution_count": 82,
   "id": "50dbc2e3",
   "metadata": {},
   "outputs": [
    {
     "ename": "IndentationError",
     "evalue": "expected an indented block (1449239792.py, line 13)",
     "output_type": "error",
     "traceback": [
      "\u001b[1;36m  Input \u001b[1;32mIn [82]\u001b[1;36m\u001b[0m\n\u001b[1;33m    return distribution.pdf(dataset)\u001b[0m\n\u001b[1;37m    ^\u001b[0m\n\u001b[1;31mIndentationError\u001b[0m\u001b[1;31m:\u001b[0m expected an indented block\n"
     ]
    }
   ],
   "source": [
    "from scipy.stats import norm\n",
    "\n",
    "def estimate_gaussian(dataset):\n",
    "    mu = np.mean(dataset, axis=0)\n",
    "    sigma = np.cov(dataset.T)\n",
    "return mu, sigma\n",
    "\n",
    "def get_gaussian(mu, sigma):\n",
    "    distribution = norm(mu, sigma)\n",
    "return distribution\n",
    "\n",
    "def get_probs(distribution, dataset):\n",
    "return distribution.pdf(dataset)"
   ]
  },
  {
   "cell_type": "code",
   "execution_count": 84,
   "id": "c4ef5cd5",
   "metadata": {},
   "outputs": [],
   "source": [
    "from sklearn.cluster import DBSCAN\n",
    "from sklearn.preprocessing import MinMaxScaler"
   ]
  },
  {
   "cell_type": "code",
   "execution_count": null,
   "id": "eb85174d",
   "metadata": {},
   "outputs": [],
   "source": []
  }
 ],
 "metadata": {
  "kernelspec": {
   "display_name": "Python 3 (ipykernel)",
   "language": "python",
   "name": "python3"
  },
  "language_info": {
   "codemirror_mode": {
    "name": "ipython",
    "version": 3
   },
   "file_extension": ".py",
   "mimetype": "text/x-python",
   "name": "python",
   "nbconvert_exporter": "python",
   "pygments_lexer": "ipython3",
   "version": "3.9.12"
  }
 },
 "nbformat": 4,
 "nbformat_minor": 5
}
