{
 "cells": [
  {
   "cell_type": "code",
   "execution_count": 8,
   "id": "c321746c",
   "metadata": {},
   "outputs": [],
   "source": [
    "import pandas as pd\n",
    "import numpy as np\n",
    "import matplotlib.pyplot as plt"
   ]
  },
  {
   "cell_type": "code",
   "execution_count": 9,
   "id": "3e12d4e5",
   "metadata": {},
   "outputs": [],
   "source": [
    "myData = pd.read_csv('mycar.csv')"
   ]
  },
  {
   "cell_type": "code",
   "execution_count": 10,
   "id": "21ab8f62",
   "metadata": {},
   "outputs": [],
   "source": [
    "X = myData.iloc[:,:-1].values\n",
    "Y = myData.iloc[:,1].values"
   ]
  },
  {
   "cell_type": "code",
   "execution_count": 11,
   "id": "1a010853",
   "metadata": {},
   "outputs": [],
   "source": [
    "from sklearn.model_selection import train_test_split"
   ]
  },
  {
   "cell_type": "code",
   "execution_count": 12,
   "id": "8ed8624c",
   "metadata": {},
   "outputs": [],
   "source": [
    "X_train, X_test, Y_train, Y_test = train_test_split(X, Y, test_size= 0.3)"
   ]
  },
  {
   "cell_type": "code",
   "execution_count": 13,
   "id": "f5a43262",
   "metadata": {},
   "outputs": [
    {
     "data": {
      "text/plain": [
       "LinearRegression()"
      ]
     },
     "execution_count": 13,
     "metadata": {},
     "output_type": "execute_result"
    }
   ],
   "source": [
    "from sklearn.linear_model import LinearRegression\n",
    "myModel = LinearRegression() #Обозначаем, что наша модель - линейная регрессия\n",
    "myModel.fit(X_train,Y_train) #обучаем модель на обучающих данных"
   ]
  },
  {
   "cell_type": "code",
   "execution_count": 14,
   "id": "15565af0",
   "metadata": {},
   "outputs": [
    {
     "data": {
      "text/plain": [
       "array([76.13318232, 30.64154038, 51.31955944, 80.26878613, 43.04835182,\n",
       "       -2.44329011, 63.72637088, 43.04835182,  9.96352132, 59.59076707,\n",
       "       38.91274801, 55.45516326, 63.72637088, 38.91274801, -2.44329011])"
      ]
     },
     "execution_count": 14,
     "metadata": {},
     "output_type": "execute_result"
    }
   ],
   "source": [
    "y_pred = myModel.predict(X_test)\n",
    "y_pred"
   ]
  },
  {
   "cell_type": "code",
   "execution_count": null,
   "id": "d246fffa",
   "metadata": {},
   "outputs": [],
   "source": [
    "### Задание 3.2.1\n",
    "\n",
    "Какая из этих задач является задачей линейной регрессии?\n",
    "### Ответ:"
   ]
  },
  {
   "cell_type": "code",
   "execution_count": null,
   "id": "0a875ff0",
   "metadata": {},
   "outputs": [],
   "source": [
    "### Задание 3.2.2\n",
    "\n",
    "Почему для этих данных не подходит модель линейной регрессии?\n",
    "### Ответ:"
   ]
  },
  {
   "cell_type": "code",
   "execution_count": null,
   "id": "6f08692e",
   "metadata": {},
   "outputs": [],
   "source": [
    "### Задание 3.2.3\n",
    "\n",
    "Какой размер будет у матрицы X (матрица признаков) для данных в таблице? Задача — модель предсказания продаж."
   ]
  }
 ],
 "metadata": {
  "kernelspec": {
   "display_name": "Python 3 (ipykernel)",
   "language": "python",
   "name": "python3"
  },
  "language_info": {
   "codemirror_mode": {
    "name": "ipython",
    "version": 3
   },
   "file_extension": ".py",
   "mimetype": "text/x-python",
   "name": "python",
   "nbconvert_exporter": "python",
   "pygments_lexer": "ipython3",
   "version": "3.9.12"
  }
 },
 "nbformat": 4,
 "nbformat_minor": 5
}
